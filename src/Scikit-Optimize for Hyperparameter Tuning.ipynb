{
 "cells": [
  {
   "cell_type": "markdown",
   "metadata": {},
   "source": [
    "Aim - Bayesian Hyperparameter Optimization using scikit-learn\n",
    "\n",
    "1.Scikit-Optimize\n",
    "2.Machine Learning Dataset and Model\n",
    "3.Manually Tune Algorithm Hyperparameters\n",
    "4.Automatically Tune Algorithm Hyperparameters"
   ]
  },
  {
   "cell_type": "code",
   "execution_count": 27,
   "metadata": {},
   "outputs": [
    {
     "name": "stdout",
     "output_type": "stream",
     "text": [
      "skopt 0.10.1\n"
     ]
    }
   ],
   "source": [
    "import skopt\n",
    "print('skopt %s' % skopt.__version__)"
   ]
  },
  {
   "cell_type": "code",
   "execution_count": 28,
   "metadata": {},
   "outputs": [
    {
     "name": "stdout",
     "output_type": "stream",
     "text": [
      "(351, 34) (351,)\n"
     ]
    }
   ],
   "source": [
    "# summarize the ionosphere dataset\n",
    "from pandas import read_csv\n",
    "# load dataset\n",
    "data_path = 'C:\\\\Users\\\\obero\\\\Desktop\\\\RUTGERS\\\\Projects\\\\Bayesian-Hyperparameter-Optimization\\\\data\\\\ionosphere.data'\n",
    "dataframe = read_csv(data_path, header=None)\n",
    "# split into input and output elements\n",
    "data = dataframe.values\n",
    "X, y = data[:, :-1], data[:, -1]\n",
    "print(X.shape, y.shape)"
   ]
  },
  {
   "cell_type": "code",
   "execution_count": 29,
   "metadata": {},
   "outputs": [
    {
     "name": "stdout",
     "output_type": "stream",
     "text": [
      "(351, 34) (351,)\n",
      "Accuracy: 0.937 (0.038)\n"
     ]
    }
   ],
   "source": [
    "\n",
    "# evaluate an svm for the ionosphere dataset\n",
    "from numpy import mean\n",
    "from numpy import std\n",
    "from sklearn.model_selection import cross_val_score\n",
    "from sklearn.model_selection import RepeatedStratifiedKFold\n",
    "from sklearn.svm import SVC\n",
    "# split into input and output elements\n",
    "data = dataframe.values\n",
    "X, y = data[:, :-1], data[:, -1]\n",
    "print(X.shape, y.shape)\n",
    "# define model model\n",
    "model = SVC()\n",
    "# define test harness\n",
    "cv = RepeatedStratifiedKFold(n_splits=10, n_repeats=3, random_state=1)\n",
    "# evaluate model\n",
    "m_scores = cross_val_score(model, X, y, scoring='accuracy', cv=cv, n_jobs=-1, error_score='raise')\n",
    "print('Accuracy: %.3f (%.3f)' % (mean(m_scores), std(m_scores)))"
   ]
  },
  {
   "cell_type": "markdown",
   "metadata": {},
   "source": [
    "We will tune the following hyperparameters of the SVM model:\n",
    "\n",
    "C, the regularization parameter.\n",
    "\n",
    "kernel, the type of kernel used in the model.\n",
    "\n",
    "degree, used for the polynomial kernel.\n",
    "\n",
    "gamma, used in most other kernels.\n",
    "\n",
    "For the numeric hyperparameters C and gamma, we will define a log scale to search between a small value of 1e-6 and 100. Degree is an integer and we will search values between 1 and 5. Finally, the kernel is a categorical variable with specific named values"
   ]
  },
  {
   "cell_type": "code",
   "execution_count": 30,
   "metadata": {},
   "outputs": [],
   "source": [
    "from skopt.space import Real, Categorical, Integer\n",
    "# define the space of hyperparameters to search\n",
    "search_space = list()\n",
    "search_space.append(Real(1e-6, 100.0, 'log-uniform', name='C'))\n",
    "search_space.append(Categorical(['linear', 'poly', 'rbf', 'sigmoid'], name='kernel'))\n",
    "search_space.append(Integer(1, 5, name='degree'))\n",
    "search_space.append(Real(1e-6, 100.0, 'log-uniform', name='gamma'))"
   ]
  },
  {
   "cell_type": "code",
   "execution_count": 31,
   "metadata": {},
   "outputs": [],
   "source": [
    "from skopt.utils import use_named_args\n",
    "# define the function used to evaluate a given configuration\n",
    "@use_named_args(search_space)\n",
    "def evaluate_model(**params):\n",
    "\t# configure the model with specific hyperparameters\n",
    "\tmodel = SVC()\n",
    "\tmodel.set_params(**params)\n",
    "\t# define test harness\n",
    "\tcv = RepeatedStratifiedKFold(n_splits=10, n_repeats=3, random_state=1)\n",
    "\t# calculate 5-fold cross validation\n",
    "\tresult = cross_val_score(model, X, y, cv=cv, n_jobs=-1, scoring='accuracy')\n",
    "\t# calculate the mean of the scores\n",
    "\testimate = mean(result)\n",
    "\t# convert from a maximizing score to a minimizing score\n",
    "\treturn 1.0 - estimate"
   ]
  },
  {
   "cell_type": "code",
   "execution_count": 32,
   "metadata": {},
   "outputs": [],
   "source": [
    "\n",
    "# perform optimization\n",
    "result = skopt.gp_minimize(evaluate_model, search_space)"
   ]
  },
  {
   "cell_type": "code",
   "execution_count": 33,
   "metadata": {},
   "outputs": [
    {
     "name": "stdout",
     "output_type": "stream",
     "text": [
      "Best Accuracy: 0.954\n",
      "Best Parameters: [16.52508913224459, 'rbf', 1, 0.0332975050985643]\n"
     ]
    }
   ],
   "source": [
    "...\n",
    "# summarizing finding:\n",
    "print('Best Accuracy: %.3f' % (1.0 - result.fun))\n",
    "print('Best Parameters: %s' % (result.x))"
   ]
  },
  {
   "cell_type": "markdown",
   "metadata": {},
   "source": [
    "Automatically Tune Algorithm Hyperparameters\n",
    "\n",
    "The Scikit-Learn machine learning library provides tools for tuning model hyperparameters.\n",
    "\n",
    "Specifically, it provides the GridSearchCV and RandomizedSearchCV classes that take a model, a search space, and a cross-validation configuration.\n",
    "\n",
    "The benefit of these classes is that the search procedure is performed automatically, requiring minimal configuration.\n",
    "\n",
    "Similarly, the Scikit-Optimize library provides a similar interface for performing a Bayesian Optimization of model hyperparameters via the BayesSearchCV class.\n",
    "\n",
    "This class can be used in the same way as the Scikit-Learn equivalents.\n",
    "\n",
    "First, the search space must be defined as a dictionary with hyperparameter names used as the key and the scope of the variable as the value."
   ]
  },
  {
   "cell_type": "code",
   "execution_count": 35,
   "metadata": {},
   "outputs": [],
   "source": [
    "# define search space\n",
    "params = dict()\n",
    "params['C'] = (1e-6, 100.0, 'log-uniform')\n",
    "params['gamma'] = (1e-6, 100.0, 'log-uniform')\n",
    "params['degree'] = (1,5)\n",
    "params['kernel'] = ['linear', 'poly', 'rbf', 'sigmoid']"
   ]
  },
  {
   "cell_type": "code",
   "execution_count": 36,
   "metadata": {},
   "outputs": [],
   "source": [
    "# define evaluation\n",
    "cv = RepeatedStratifiedKFold(n_splits=10, n_repeats=3, random_state=1)\n",
    "# define the search\n",
    "search = skopt.BayesSearchCV(estimator=SVC(), search_spaces=params, n_jobs=-1, cv=cv)"
   ]
  },
  {
   "cell_type": "code",
   "execution_count": 41,
   "metadata": {},
   "outputs": [
    {
     "name": "stdout",
     "output_type": "stream",
     "text": [
      "0.8840476190476191\n",
      "OrderedDict({'C': 100.0, 'degree': 2, 'gamma': 40.597241934366636, 'kernel': 'linear'})\n"
     ]
    }
   ],
   "source": [
    "# perform the search\n",
    "search.fit(X, y)\n",
    "# report the best result\n",
    "print(search.best_score_)\n",
    "print(search.best_params_)"
   ]
  }
 ],
 "metadata": {
  "kernelspec": {
   "display_name": "env",
   "language": "python",
   "name": "python3"
  },
  "language_info": {
   "codemirror_mode": {
    "name": "ipython",
    "version": 3
   },
   "file_extension": ".py",
   "mimetype": "text/x-python",
   "name": "python",
   "nbconvert_exporter": "python",
   "pygments_lexer": "ipython3",
   "version": "3.12.2"
  }
 },
 "nbformat": 4,
 "nbformat_minor": 2
}
