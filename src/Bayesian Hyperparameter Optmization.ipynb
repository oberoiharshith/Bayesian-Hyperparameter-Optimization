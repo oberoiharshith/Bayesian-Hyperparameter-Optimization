{
 "cells": [
  {
   "cell_type": "markdown",
   "metadata": {},
   "source": [
    "For our project we would be using Hyperopt, which is one of the several automated hyperparameter tuning libraries using Bayesian optimization. Hyperopt uses Tree Parzen Estimator(TPE).\n",
    "Hyperopt has a simple syntax for structuring an optimization problem, which extends beyond hyperparameter tuning to any problem that involves minimizing a function. \n",
    "\n",
    "Objective of the Project\n",
    "we will optimize the hyperparameters of a Gradient Boosting Machine using the Hyperopt library (with the Tree Parzen Estimator algorithm). We will compare the results of random search (implemented manually) for hyperparameter tuning with the Bayesian model-based optimization method to try and understand how the Bayesian method works and what benefits it has over uninformed search methods."
   ]
  },
  {
   "cell_type": "code",
   "execution_count": 76,
   "metadata": {},
   "outputs": [],
   "source": [
    "import numpy as np\n",
    "import pandas as pd\n",
    "import lightgbm as lgb\n",
    "\n",
    "from sklearn.model_selection import KFold\n",
    "\n",
    "MAX_EVALS = 500\n",
    "N_FOLDS = 10"
   ]
  },
  {
   "cell_type": "markdown",
   "metadata": {},
   "source": [
    "DATASET\n",
    "\n",
    "For experimentation, we have taken the Caravan Insurance Challenge data (https://www.kaggle.com/datasets/uciml/caravan-insurance-challenge?resource=download) \n",
    "\n",
    "We aim to determine whether or not a potential customer will buy an insurance policy by training a model on past data. We want to train a model to predict a binary outcome on testing data. (Supervised Classification) "
   ]
  },
  {
   "cell_type": "code",
   "execution_count": 3,
   "metadata": {},
   "outputs": [
    {
     "name": "stdout",
     "output_type": "stream",
     "text": [
      "<class 'pandas.core.frame.DataFrame'>\n",
      "RangeIndex: 9822 entries, 0 to 9821\n",
      "Data columns (total 87 columns):\n",
      " #   Column    Non-Null Count  Dtype \n",
      "---  ------    --------------  ----- \n",
      " 0   ORIGIN    9822 non-null   object\n",
      " 1   MOSTYPE   9822 non-null   int64 \n",
      " 2   MAANTHUI  9822 non-null   int64 \n",
      " 3   MGEMOMV   9822 non-null   int64 \n",
      " 4   MGEMLEEF  9822 non-null   int64 \n",
      " 5   MOSHOOFD  9822 non-null   int64 \n",
      " 6   MGODRK    9822 non-null   int64 \n",
      " 7   MGODPR    9822 non-null   int64 \n",
      " 8   MGODOV    9822 non-null   int64 \n",
      " 9   MGODGE    9822 non-null   int64 \n",
      " 10  MRELGE    9822 non-null   int64 \n",
      " 11  MRELSA    9822 non-null   int64 \n",
      " 12  MRELOV    9822 non-null   int64 \n",
      " 13  MFALLEEN  9822 non-null   int64 \n",
      " 14  MFGEKIND  9822 non-null   int64 \n",
      " 15  MFWEKIND  9822 non-null   int64 \n",
      " 16  MOPLHOOG  9822 non-null   int64 \n",
      " 17  MOPLMIDD  9822 non-null   int64 \n",
      " 18  MOPLLAAG  9822 non-null   int64 \n",
      " 19  MBERHOOG  9822 non-null   int64 \n",
      " 20  MBERZELF  9822 non-null   int64 \n",
      " 21  MBERBOER  9822 non-null   int64 \n",
      " 22  MBERMIDD  9822 non-null   int64 \n",
      " 23  MBERARBG  9822 non-null   int64 \n",
      " 24  MBERARBO  9822 non-null   int64 \n",
      " 25  MSKA      9822 non-null   int64 \n",
      " 26  MSKB1     9822 non-null   int64 \n",
      " 27  MSKB2     9822 non-null   int64 \n",
      " 28  MSKC      9822 non-null   int64 \n",
      " 29  MSKD      9822 non-null   int64 \n",
      " 30  MHHUUR    9822 non-null   int64 \n",
      " 31  MHKOOP    9822 non-null   int64 \n",
      " 32  MAUT1     9822 non-null   int64 \n",
      " 33  MAUT2     9822 non-null   int64 \n",
      " 34  MAUT0     9822 non-null   int64 \n",
      " 35  MZFONDS   9822 non-null   int64 \n",
      " 36  MZPART    9822 non-null   int64 \n",
      " 37  MINKM30   9822 non-null   int64 \n",
      " 38  MINK3045  9822 non-null   int64 \n",
      " 39  MINK4575  9822 non-null   int64 \n",
      " 40  MINK7512  9822 non-null   int64 \n",
      " 41  MINK123M  9822 non-null   int64 \n",
      " 42  MINKGEM   9822 non-null   int64 \n",
      " 43  MKOOPKLA  9822 non-null   int64 \n",
      " 44  PWAPART   9822 non-null   int64 \n",
      " 45  PWABEDR   9822 non-null   int64 \n",
      " 46  PWALAND   9822 non-null   int64 \n",
      " 47  PPERSAUT  9822 non-null   int64 \n",
      " 48  PBESAUT   9822 non-null   int64 \n",
      " 49  PMOTSCO   9822 non-null   int64 \n",
      " 50  PVRAAUT   9822 non-null   int64 \n",
      " 51  PAANHANG  9822 non-null   int64 \n",
      " 52  PTRACTOR  9822 non-null   int64 \n",
      " 53  PWERKT    9822 non-null   int64 \n",
      " 54  PBROM     9822 non-null   int64 \n",
      " 55  PLEVEN    9822 non-null   int64 \n",
      " 56  PPERSONG  9822 non-null   int64 \n",
      " 57  PGEZONG   9822 non-null   int64 \n",
      " 58  PWAOREG   9822 non-null   int64 \n",
      " 59  PBRAND    9822 non-null   int64 \n",
      " 60  PZEILPL   9822 non-null   int64 \n",
      " 61  PPLEZIER  9822 non-null   int64 \n",
      " 62  PFIETS    9822 non-null   int64 \n",
      " 63  PINBOED   9822 non-null   int64 \n",
      " 64  PBYSTAND  9822 non-null   int64 \n",
      " 65  AWAPART   9822 non-null   int64 \n",
      " 66  AWABEDR   9822 non-null   int64 \n",
      " 67  AWALAND   9822 non-null   int64 \n",
      " 68  APERSAUT  9822 non-null   int64 \n",
      " 69  ABESAUT   9822 non-null   int64 \n",
      " 70  AMOTSCO   9822 non-null   int64 \n",
      " 71  AVRAAUT   9822 non-null   int64 \n",
      " 72  AAANHANG  9822 non-null   int64 \n",
      " 73  ATRACTOR  9822 non-null   int64 \n",
      " 74  AWERKT    9822 non-null   int64 \n",
      " 75  ABROM     9822 non-null   int64 \n",
      " 76  ALEVEN    9822 non-null   int64 \n",
      " 77  APERSONG  9822 non-null   int64 \n",
      " 78  AGEZONG   9822 non-null   int64 \n",
      " 79  AWAOREG   9822 non-null   int64 \n",
      " 80  ABRAND    9822 non-null   int64 \n",
      " 81  AZEILPL   9822 non-null   int64 \n",
      " 82  APLEZIER  9822 non-null   int64 \n",
      " 83  AFIETS    9822 non-null   int64 \n",
      " 84  AINBOED   9822 non-null   int64 \n",
      " 85  ABYSTAND  9822 non-null   int64 \n",
      " 86  CARAVAN   9822 non-null   int64 \n",
      "dtypes: int64(86), object(1)\n",
      "memory usage: 6.5+ MB\n",
      "Train shape (5822, 85)\n",
      "Test shape (4000, 85)\n"
     ]
    },
    {
     "data": {
      "text/html": [
       "<div>\n",
       "<style scoped>\n",
       "    .dataframe tbody tr th:only-of-type {\n",
       "        vertical-align: middle;\n",
       "    }\n",
       "\n",
       "    .dataframe tbody tr th {\n",
       "        vertical-align: top;\n",
       "    }\n",
       "\n",
       "    .dataframe thead th {\n",
       "        text-align: right;\n",
       "    }\n",
       "</style>\n",
       "<table border=\"1\" class=\"dataframe\">\n",
       "  <thead>\n",
       "    <tr style=\"text-align: right;\">\n",
       "      <th></th>\n",
       "      <th>MOSTYPE</th>\n",
       "      <th>MAANTHUI</th>\n",
       "      <th>MGEMOMV</th>\n",
       "      <th>MGEMLEEF</th>\n",
       "      <th>MOSHOOFD</th>\n",
       "      <th>MGODRK</th>\n",
       "      <th>MGODPR</th>\n",
       "      <th>MGODOV</th>\n",
       "      <th>MGODGE</th>\n",
       "      <th>MRELGE</th>\n",
       "      <th>...</th>\n",
       "      <th>ALEVEN</th>\n",
       "      <th>APERSONG</th>\n",
       "      <th>AGEZONG</th>\n",
       "      <th>AWAOREG</th>\n",
       "      <th>ABRAND</th>\n",
       "      <th>AZEILPL</th>\n",
       "      <th>APLEZIER</th>\n",
       "      <th>AFIETS</th>\n",
       "      <th>AINBOED</th>\n",
       "      <th>ABYSTAND</th>\n",
       "    </tr>\n",
       "  </thead>\n",
       "  <tbody>\n",
       "    <tr>\n",
       "      <th>0</th>\n",
       "      <td>33</td>\n",
       "      <td>1</td>\n",
       "      <td>3</td>\n",
       "      <td>2</td>\n",
       "      <td>8</td>\n",
       "      <td>0</td>\n",
       "      <td>5</td>\n",
       "      <td>1</td>\n",
       "      <td>3</td>\n",
       "      <td>7</td>\n",
       "      <td>...</td>\n",
       "      <td>0</td>\n",
       "      <td>0</td>\n",
       "      <td>0</td>\n",
       "      <td>0</td>\n",
       "      <td>1</td>\n",
       "      <td>0</td>\n",
       "      <td>0</td>\n",
       "      <td>0</td>\n",
       "      <td>0</td>\n",
       "      <td>0</td>\n",
       "    </tr>\n",
       "    <tr>\n",
       "      <th>1</th>\n",
       "      <td>37</td>\n",
       "      <td>1</td>\n",
       "      <td>2</td>\n",
       "      <td>2</td>\n",
       "      <td>8</td>\n",
       "      <td>1</td>\n",
       "      <td>4</td>\n",
       "      <td>1</td>\n",
       "      <td>4</td>\n",
       "      <td>6</td>\n",
       "      <td>...</td>\n",
       "      <td>0</td>\n",
       "      <td>0</td>\n",
       "      <td>0</td>\n",
       "      <td>0</td>\n",
       "      <td>1</td>\n",
       "      <td>0</td>\n",
       "      <td>0</td>\n",
       "      <td>0</td>\n",
       "      <td>0</td>\n",
       "      <td>0</td>\n",
       "    </tr>\n",
       "    <tr>\n",
       "      <th>2</th>\n",
       "      <td>37</td>\n",
       "      <td>1</td>\n",
       "      <td>2</td>\n",
       "      <td>2</td>\n",
       "      <td>8</td>\n",
       "      <td>0</td>\n",
       "      <td>4</td>\n",
       "      <td>2</td>\n",
       "      <td>4</td>\n",
       "      <td>3</td>\n",
       "      <td>...</td>\n",
       "      <td>0</td>\n",
       "      <td>0</td>\n",
       "      <td>0</td>\n",
       "      <td>0</td>\n",
       "      <td>1</td>\n",
       "      <td>0</td>\n",
       "      <td>0</td>\n",
       "      <td>0</td>\n",
       "      <td>0</td>\n",
       "      <td>0</td>\n",
       "    </tr>\n",
       "    <tr>\n",
       "      <th>3</th>\n",
       "      <td>9</td>\n",
       "      <td>1</td>\n",
       "      <td>3</td>\n",
       "      <td>3</td>\n",
       "      <td>3</td>\n",
       "      <td>2</td>\n",
       "      <td>3</td>\n",
       "      <td>2</td>\n",
       "      <td>4</td>\n",
       "      <td>5</td>\n",
       "      <td>...</td>\n",
       "      <td>0</td>\n",
       "      <td>0</td>\n",
       "      <td>0</td>\n",
       "      <td>0</td>\n",
       "      <td>1</td>\n",
       "      <td>0</td>\n",
       "      <td>0</td>\n",
       "      <td>0</td>\n",
       "      <td>0</td>\n",
       "      <td>0</td>\n",
       "    </tr>\n",
       "    <tr>\n",
       "      <th>4</th>\n",
       "      <td>40</td>\n",
       "      <td>1</td>\n",
       "      <td>4</td>\n",
       "      <td>2</td>\n",
       "      <td>10</td>\n",
       "      <td>1</td>\n",
       "      <td>4</td>\n",
       "      <td>1</td>\n",
       "      <td>4</td>\n",
       "      <td>7</td>\n",
       "      <td>...</td>\n",
       "      <td>0</td>\n",
       "      <td>0</td>\n",
       "      <td>0</td>\n",
       "      <td>0</td>\n",
       "      <td>1</td>\n",
       "      <td>0</td>\n",
       "      <td>0</td>\n",
       "      <td>0</td>\n",
       "      <td>0</td>\n",
       "      <td>0</td>\n",
       "    </tr>\n",
       "  </tbody>\n",
       "</table>\n",
       "<p>5 rows × 85 columns</p>\n",
       "</div>"
      ],
      "text/plain": [
       "   MOSTYPE  MAANTHUI  MGEMOMV  MGEMLEEF  MOSHOOFD  MGODRK  MGODPR  MGODOV  \\\n",
       "0       33         1        3         2         8       0       5       1   \n",
       "1       37         1        2         2         8       1       4       1   \n",
       "2       37         1        2         2         8       0       4       2   \n",
       "3        9         1        3         3         3       2       3       2   \n",
       "4       40         1        4         2        10       1       4       1   \n",
       "\n",
       "   MGODGE  MRELGE  ...  ALEVEN  APERSONG  AGEZONG  AWAOREG  ABRAND  AZEILPL  \\\n",
       "0       3       7  ...       0         0        0        0       1        0   \n",
       "1       4       6  ...       0         0        0        0       1        0   \n",
       "2       4       3  ...       0         0        0        0       1        0   \n",
       "3       4       5  ...       0         0        0        0       1        0   \n",
       "4       4       7  ...       0         0        0        0       1        0   \n",
       "\n",
       "   APLEZIER  AFIETS  AINBOED  ABYSTAND  \n",
       "0         0       0        0         0  \n",
       "1         0       0        0         0  \n",
       "2         0       0        0         0  \n",
       "3         0       0        0         0  \n",
       "4         0       0        0         0  \n",
       "\n",
       "[5 rows x 85 columns]"
      ]
     },
     "execution_count": 3,
     "metadata": {},
     "output_type": "execute_result"
    }
   ],
   "source": [
    "#Load the data and split into Train and Test, the dataset already defines Test and Train in the 'ORIGIN' \n",
    "data = pd.read_csv(r'C:\\Users\\obero\\Desktop\\RUTGERS\\Projects\\Bayesian-Hyperparameter-Optimization\\data\\caravan-insurance-challenge.csv')\n",
    "\n",
    "train = data[data['ORIGIN']=='train']\n",
    "test = data[data['ORIGIN']=='test']\n",
    "\n",
    "data.info()\n",
    "train_labels = np.array(train['CARAVAN'].astype(np.int32)).reshape((-1,))\n",
    "test_labels  = np.array(test['CARAVAN'].astype(np.int32)).reshape((-1,))\n",
    "\n",
    "#data cleaning\n",
    "train = train.drop(columns = ['ORIGIN','CARAVAN'])\n",
    "test = test.drop(columns = ['ORIGIN','CARAVAN'])\n",
    "\n",
    "#Conversion to numpy array for splitting in cross validation\n",
    "\n",
    "features = np.array(train)\n",
    "test_features = np.array(test)\n",
    "labels = train_labels[:]\n",
    "\n",
    "print('Train shape', train.shape)\n",
    "print('Test shape',test.shape)\n",
    "train.head()\n",
    "\n"
   ]
  },
  {
   "cell_type": "markdown",
   "metadata": {},
   "source": [
    "Distribution of Labels"
   ]
  },
  {
   "cell_type": "code",
   "execution_count": 4,
   "metadata": {},
   "outputs": [
    {
     "data": {
      "text/plain": [
       "Text(0.5, 1.0, 'Count of Labels')"
      ]
     },
     "execution_count": 4,
     "metadata": {},
     "output_type": "execute_result"
    },
    {
     "data": {
      "image/png": "[encoded data removed]",
      "text/plain": [
       "<Figure size 640x480 with 1 Axes>"
      ]
     },
     "metadata": {},
     "output_type": "display_data"
    }
   ],
   "source": [
    "import matplotlib.pyplot as plt\n",
    "\n",
    "plt.hist(labels,edgecolor='k')\n",
    "plt.xlabel('Label')\n",
    "plt.ylabel(\"Count\")\n",
    "plt.title(\"Count of Labels\")"
   ]
  },
  {
   "cell_type": "markdown",
   "metadata": {},
   "source": [
    "We can observe an imbalanced class problem, There are more observations where an insurance policy was not bought(0) than when the policy was bought(1). Therefore, accuracy is a poor metric to use for this task. Instead, we will use the common classification metric of Receiver Operating Characteristic Area Under the Curve (ROC AUC). Randomly guessing on a classification problem will yield an ROC AUC of 0.5 and a perfect classifier has an ROC AUC of 1.0. For a better baseline model than random guessing, we can train a default Gradient Boosting Machine and have it make predictions."
   ]
  },
  {
   "cell_type": "code",
   "execution_count": 5,
   "metadata": {},
   "outputs": [
    {
     "data": {
      "text/plain": [
       "{'boosting_type': 'gbdt',\n",
       " 'class_weight': None,\n",
       " 'colsample_bytree': 1.0,\n",
       " 'importance_type': 'split',\n",
       " 'learning_rate': 0.1,\n",
       " 'max_depth': -1,\n",
       " 'min_child_samples': 20,\n",
       " 'min_child_weight': 0.001,\n",
       " 'min_split_gain': 0.0,\n",
       " 'n_estimators': 100,\n",
       " 'n_jobs': None,\n",
       " 'num_leaves': 31,\n",
       " 'objective': None,\n",
       " 'random_state': None,\n",
       " 'reg_alpha': 0.0,\n",
       " 'reg_lambda': 0.0,\n",
       " 'subsample': 1.0,\n",
       " 'subsample_for_bin': 200000,\n",
       " 'subsample_freq': 0}"
      ]
     },
     "execution_count": 5,
     "metadata": {},
     "output_type": "execute_result"
    }
   ],
   "source": [
    "#Default GBM i.e. model with default hyperparameters\n",
    "\n",
    "model = lgb.LGBMClassifier()\n",
    "param = model.get_params()\n",
    "param"
   ]
  },
  {
   "cell_type": "code",
   "execution_count": 6,
   "metadata": {},
   "outputs": [
    {
     "name": "stdout",
     "output_type": "stream",
     "text": [
      "[LightGBM] [Info] Number of positive: 348, number of negative: 5474\n",
      "[LightGBM] [Info] Auto-choosing row-wise multi-threading, the overhead of testing was 0.001422 seconds.\n",
      "You can set `force_row_wise=true` to remove the overhead.\n",
      "And if memory is not enough, you can set `force_col_wise=true`.\n",
      "[LightGBM] [Info] Total Bins 603\n",
      "[LightGBM] [Info] Number of data points in the train set: 5822, number of used features: 81\n",
      "[LightGBM] [Info] [binary:BoostFromScore]: pavg=0.059773 -> initscore=-2.755562\n",
      "[LightGBM] [Info] Start training from score -2.755562\n",
      "the baseline score on the test set is 0.7089.\n",
      "the baseline training time is 0.2539 seconds \n"
     ]
    }
   ],
   "source": [
    "from sklearn.metrics import roc_auc_score\n",
    "from timeit import default_timer as timer\n",
    "start = timer()\n",
    "model.fit(features,labels)\n",
    "train_time = timer() - start\n",
    "\n",
    "predictions = model.predict_proba(test_features)[:,1]\n",
    "auc = roc_auc_score(test_labels,predictions)\n",
    "\n",
    "print(\"the baseline score on the test set is {:.4f}.\".format(auc))\n",
    "print(\"the baseline training time is {:.4f} seconds \".format(train_time))"
   ]
  },
  {
   "cell_type": "markdown",
   "metadata": {},
   "source": [
    "We have to beat the baseline metric. Due to the small size of the dataset, hyperparameter tuning will have a modest but noticeable effect on the performance."
   ]
  },
  {
   "cell_type": "markdown",
   "metadata": {},
   "source": [
    "Lets start with Hyperparameter tuning \n",
    " \n",
    "First we will implement a common technique for hyperparameter optimization: random search. Each iteration, we choose a random set of model hyperparameters from a search space.\n",
    "\n",
    "Random search uses the following four parts, which are also used in Bayesian hyperparameter optimization:\n",
    "\n",
    "1.Domain: values over which to search\n",
    "\n",
    "2.Optimization : pick the next values at random\n",
    "\n",
    "3.Objective function to minimize: in this case our metric is cross validation ROC AUC\n",
    "\n",
    "4.Results history that tracks the hyperparameters tried and the cross validation metric\n",
    "\n",
    "Random search can be implemented in the scikit-learn library using RandomizedSearchCV, However because we are using Early stopping(to determine the optimal number of estimators), we will implement the method."
   ]
  },
  {
   "cell_type": "code",
   "execution_count": 7,
   "metadata": {},
   "outputs": [],
   "source": [
    "import random"
   ]
  },
  {
   "cell_type": "markdown",
   "metadata": {},
   "source": [
    "Random Search and Bayesian optimization both search for hyperparameters from a domain. For random(or grid search) this domain is called as hyperparameter grid and uses discrete values for the hyperparameters."
   ]
  },
  {
   "cell_type": "code",
   "execution_count": 8,
   "metadata": {},
   "outputs": [
    {
     "data": {
      "text/plain": [
       "{'boosting_type': 'gbdt',\n",
       " 'class_weight': None,\n",
       " 'colsample_bytree': 1.0,\n",
       " 'importance_type': 'split',\n",
       " 'learning_rate': 0.1,\n",
       " 'max_depth': -1,\n",
       " 'min_child_samples': 20,\n",
       " 'min_child_weight': 0.001,\n",
       " 'min_split_gain': 0.0,\n",
       " 'n_estimators': 100,\n",
       " 'n_jobs': None,\n",
       " 'num_leaves': 31,\n",
       " 'objective': None,\n",
       " 'random_state': None,\n",
       " 'reg_alpha': 0.0,\n",
       " 'reg_lambda': 0.0,\n",
       " 'subsample': 1.0,\n",
       " 'subsample_for_bin': 200000,\n",
       " 'subsample_freq': 0}"
      ]
     },
     "execution_count": 8,
     "metadata": {},
     "output_type": "execute_result"
    }
   ],
   "source": [
    "param"
   ]
  },
  {
   "cell_type": "markdown",
   "metadata": {},
   "source": [
    "Explanation of Parameters in the param_grid (Source - ChatGPT)\n",
    "class_weight: Used to handle imbalanced data. It adjusts weights inversely proportional to class frequencies in the input data. Possible values are:\n",
    "\n",
    "None: All classes have equal weights.\n",
    "balanced: Automatically adjust weights inversely proportional to class frequencies.\n",
    "boosting_type: Specifies the type of algorithm to use:\n",
    "\n",
    "gbdt: Traditional Gradient Boosting Decision Tree.\n",
    "goss: Gradient-based One-Side Sampling.\n",
    "dart: Dropouts meet Multiple Additive Regression Trees.\n",
    "num_leaves: Number of leaves in each tree. More leaves will increase the model complexity and can lead to overfitting.\n",
    "\n",
    "learning_rate: Controls the impact of each tree on the final outcome. Lower rates mean more trees are needed to model all relations and will be more robust to overfitting.\n",
    "\n",
    "subsample_for_bin: Number of samples for constructing bins. Using smaller bins may provide faster performance but might lead to overfitting.\n",
    "\n",
    "min_child_samples: Minimum number of data points needed in a child (leaf). Used to control over-fitting. Higher numbers prevent a model from learning relations which might be highly specific to the particular sample selected for a tree.\n",
    "\n",
    "reg_alpha (L1 regularization): Regularization term on weights. Can be used for feature selection by driving coefficients of less important features to zero.\n",
    "\n",
    "reg_lambda (L2 regularization): Regularization term on weights. Smooths the weights to avoid overfitting, penalizing weights that are too large.\n",
    "\n",
    "colsample_bytree: The fraction of features to be used for each tree. A smaller value can lead to faster training and prevents overfitting."
   ]
  },
  {
   "cell_type": "code",
   "execution_count": 10,
   "metadata": {},
   "outputs": [],
   "source": [
    "# Hyperparameter grid\n",
    "param_grid = {\n",
    "    'class_weight': [None, 'balanced'],\n",
    "    'boosting_type': ['gbdt', 'goss', 'dart'],\n",
    "    'num_leaves': list(range(30, 150)),\n",
    "    'learning_rate': list(np.logspace(np.log(0.005), np.log(0.2), base = np.exp(1), num = 1000)),\n",
    "    'subsample_for_bin': list(range(20000, 300000, 20000)),\n",
    "    'min_child_samples': list(range(20, 500, 5)),\n",
    "    'reg_alpha': list(np.linspace(0, 1)),\n",
    "    'reg_lambda': list(np.linspace(0, 1)),\n",
    "    'colsample_bytree': list(np.linspace(0.6, 1, 10))\n",
    "}\n",
    "\n",
    "# Subsampling (only applicable with 'goss')\n",
    "subsample_dist = list(np.linspace(0.5, 1, 100))"
   ]
  },
  {
   "cell_type": "markdown",
   "metadata": {},
   "source": [
    "The learning rate is represented by the logarithmic distribution because it can vary over several orders of magnitude."
   ]
  },
  {
   "cell_type": "code",
   "execution_count": 11,
   "metadata": {},
   "outputs": [
    {
     "data": {
      "text/plain": [
       "Text(0.5, 1.0, 'Learning Rate Distribution')"
      ]
     },
     "execution_count": 11,
     "metadata": {},
     "output_type": "execute_result"
    },
    {
     "data": {
      "image/png": "[encoded data removed]",
      "text/plain": [
       "<Figure size 640x480 with 1 Axes>"
      ]
     },
     "metadata": {},
     "output_type": "display_data"
    }
   ],
   "source": [
    "# Plotting the learning rate\n",
    "\n",
    "plt.hist(param_grid['learning_rate'], color = 'red', edgecolor = 'black')\n",
    "plt.xlabel('Learning Rate', size = 14); plt.ylabel('Count', size = 14); plt.title('Learning Rate Distribution', size = 18)"
   ]
  },
  {
   "cell_type": "markdown",
   "metadata": {},
   "source": [
    "We can observe that smaller values of the learning rate are more common with the values between 0.005 and 0.200\n",
    "\n",
    "We can also observe that the width of the domain seems to be wide and we are uncertain about the optimal value."
   ]
  },
  {
   "cell_type": "code",
   "execution_count": 12,
   "metadata": {},
   "outputs": [
    {
     "data": {
      "image/png": "[encoded data removed]",
      "text/plain": [
       "<Figure size 640x480 with 1 Axes>"
      ]
     },
     "metadata": {},
     "output_type": "display_data"
    }
   ],
   "source": [
    "# plot the leaves and check for its distribution\n",
    "\n",
    "plt.hist(param_grid['num_leaves'], color = 'm', edgecolor = 'k')\n",
    "plt.xlabel('Learning Number of Leaves', size = 14); plt.ylabel('Count', size = 14); plt.title('Number of Leaves Distribution', size = 18);"
   ]
  },
  {
   "cell_type": "markdown",
   "metadata": {},
   "source": [
    "The leaves are uniform in nature."
   ]
  },
  {
   "cell_type": "code",
   "execution_count": 26,
   "metadata": {},
   "outputs": [
    {
     "data": {
      "text/plain": [
       "{'class_weight': None,\n",
       " 'boosting_type': 'dart',\n",
       " 'num_leaves': 32,\n",
       " 'learning_rate': 0.03824623403550541,\n",
       " 'subsample_for_bin': 60000,\n",
       " 'min_child_samples': 45,\n",
       " 'reg_alpha': 0.42857142857142855,\n",
       " 'reg_lambda': 0.8979591836734693,\n",
       " 'colsample_bytree': 1.0}"
      ]
     },
     "execution_count": 26,
     "metadata": {},
     "output_type": "execute_result"
    }
   ],
   "source": [
    "#The next task is to sample the set of hyperparameters from the grid using a dictionary comprehension\n",
    "params = {key: random.sample(value,1)[0] for key, value in param_grid.items()}\n",
    "params"
   ]
  },
  {
   "cell_type": "markdown",
   "metadata": {},
   "source": [
    "If the boosting_type is not goss, add a subsample"
   ]
  },
  {
   "cell_type": "code",
   "execution_count": 55,
   "metadata": {},
   "outputs": [
    {
     "data": {
      "text/plain": [
       "{'class_weight': None,\n",
       " 'boosting_type': 'dart',\n",
       " 'num_leaves': 32,\n",
       " 'learning_rate': 0.03824623403550541,\n",
       " 'subsample_for_bin': 60000,\n",
       " 'min_child_samples': 45,\n",
       " 'reg_alpha': 0.42857142857142855,\n",
       " 'reg_lambda': 0.8979591836734693,\n",
       " 'colsample_bytree': 1.0,\n",
       " 'subsample': 0.9646464646464648}"
      ]
     },
     "execution_count": 55,
     "metadata": {},
     "output_type": "execute_result"
    }
   ],
   "source": [
    "params['subsample'] = random.sample(subsample_dist,1)[0] if params ['boosting_type']!='goss' else 1.0\n",
    "params"
   ]
  },
  {
   "cell_type": "markdown",
   "metadata": {},
   "source": [
    "The subsample is set to 1.0 if the boosting type is goss which is equivalent to not using any subsampling."
   ]
  },
  {
   "cell_type": "markdown",
   "metadata": {},
   "source": [
    "Cross Validation with Early stopping in LightGBM. \n",
    "\n",
    "Why is early stopping used?(Source Chatgpt)\n",
    "\n",
    "Early stopping is a form of regularization used to avoid overfitting when training a machine learning model, particularly in the context of iterative algorithms like those used in training deep neural networks or gradient boosting models. Here’s why early stopping is important in the context of cross-validation:\n",
    "\n",
    "Prevent Overfitting: One of the primary reasons to use early stopping is to prevent the model from overfitting. Overfitting occurs when a model learns the detail and noise in the training data to the extent that it negatively impacts the performance of the model on new data. By stopping the training process once the model's performance ceases to improve (or begins to degrade) on a held-out validation dataset, you can ensure the model maintains a general capability to perform well on unseen data.\n",
    "\n",
    "Optimize Training Time: Early stopping helps in reducing unnecessary training time by stopping the training process once further training no longer leads to better results on the validation set. This makes the training process more efficient by not wasting resources.\n",
    "\n",
    "Model Selection: In cross-validation, particularly when using techniques like k-fold cross-validation, early stopping can be used to select the iteration or model that performs the best on the validation data, not merely the last iteration. This helps in selecting a model that strikes the right balance between bias and variance.\n",
    "\n"
   ]
  },
  {
   "cell_type": "code",
   "execution_count": 64,
   "metadata": {},
   "outputs": [],
   "source": [
    "#Create a lgb dataset, that is suitable for training lightGBM models.\n",
    "\n",
    "train_set = lgb.Dataset(features,label=labels)"
   ]
  },
  {
   "cell_type": "code",
   "execution_count": 97,
   "metadata": {},
   "outputs": [
    {
     "name": "stdout",
     "output_type": "stream",
     "text": [
      "[LightGBM] [Info] Auto-choosing row-wise multi-threading, the overhead of testing was 0.000625 seconds.\n",
      "You can set `force_row_wise=true` to remove the overhead.\n",
      "And if memory is not enough, you can set `force_col_wise=true`.\n",
      "[LightGBM] [Info] Total Bins 566\n",
      "[LightGBM] [Info] Number of data points in the train set: 5239, number of used features: 71\n",
      "[LightGBM] [Info] Auto-choosing row-wise multi-threading, the overhead of testing was 0.000655 seconds.\n",
      "You can set `force_row_wise=true` to remove the overhead.\n",
      "And if memory is not enough, you can set `force_col_wise=true`.\n",
      "[LightGBM] [Info] Total Bins 566\n",
      "[LightGBM] [Info] Number of data points in the train set: 5239, number of used features: 71\n",
      "[LightGBM] [Info] Auto-choosing row-wise multi-threading, the overhead of testing was 0.000553 seconds.\n",
      "You can set `force_row_wise=true` to remove the overhead.\n",
      "And if memory is not enough, you can set `force_col_wise=true`.\n",
      "[LightGBM] [Info] Total Bins 566\n",
      "[LightGBM] [Info] Number of data points in the train set: 5240, number of used features: 71\n",
      "[LightGBM] [Info] Auto-choosing row-wise multi-threading, the overhead of testing was 0.000562 seconds.\n",
      "You can set `force_row_wise=true` to remove the overhead.\n",
      "And if memory is not enough, you can set `force_col_wise=true`.\n",
      "[LightGBM] [Info] Total Bins 566\n",
      "[LightGBM] [Info] Number of data points in the train set: 5240, number of used features: 71\n",
      "[LightGBM] [Info] Auto-choosing row-wise multi-threading, the overhead of testing was 0.000671 seconds.\n",
      "You can set `force_row_wise=true` to remove the overhead.\n",
      "And if memory is not enough, you can set `force_col_wise=true`.\n",
      "[LightGBM] [Info] Total Bins 566\n",
      "[LightGBM] [Info] Number of data points in the train set: 5240, number of used features: 71\n",
      "[LightGBM] [Info] Auto-choosing row-wise multi-threading, the overhead of testing was 0.000443 seconds.\n",
      "You can set `force_row_wise=true` to remove the overhead.\n",
      "And if memory is not enough, you can set `force_col_wise=true`.\n",
      "[LightGBM] [Info] Total Bins 566\n",
      "[LightGBM] [Info] Number of data points in the train set: 5240, number of used features: 71\n",
      "[LightGBM] [Info] Auto-choosing row-wise multi-threading, the overhead of testing was 0.000472 seconds.\n",
      "You can set `force_row_wise=true` to remove the overhead.\n",
      "And if memory is not enough, you can set `force_col_wise=true`.\n",
      "[LightGBM] [Info] Total Bins 566\n",
      "[LightGBM] [Info] Number of data points in the train set: 5240, number of used features: 71\n",
      "[LightGBM] [Info] Auto-choosing row-wise multi-threading, the overhead of testing was 0.000475 seconds.\n",
      "You can set `force_row_wise=true` to remove the overhead.\n",
      "And if memory is not enough, you can set `force_col_wise=true`.\n",
      "[LightGBM] [Info] Total Bins 566\n",
      "[LightGBM] [Info] Number of data points in the train set: 5240, number of used features: 71\n",
      "[LightGBM] [Info] Auto-choosing row-wise multi-threading, the overhead of testing was 0.000422 seconds.\n",
      "You can set `force_row_wise=true` to remove the overhead.\n",
      "And if memory is not enough, you can set `force_col_wise=true`.\n",
      "[LightGBM] [Info] Total Bins 566\n",
      "[LightGBM] [Info] Number of data points in the train set: 5240, number of used features: 71\n",
      "[LightGBM] [Info] Auto-choosing row-wise multi-threading, the overhead of testing was 0.000473 seconds.\n",
      "You can set `force_row_wise=true` to remove the overhead.\n",
      "And if memory is not enough, you can set `force_col_wise=true`.\n",
      "[LightGBM] [Info] Total Bins 566\n",
      "[LightGBM] [Info] Number of data points in the train set: 5240, number of used features: 71\n",
      "[LightGBM] [Info] Start training from score 0.059744\n",
      "[LightGBM] [Info] Start training from score 0.059744\n",
      "[LightGBM] [Info] Start training from score 0.059924\n",
      "[LightGBM] [Info] Start training from score 0.059924\n",
      "[LightGBM] [Info] Start training from score 0.059733\n",
      "[LightGBM] [Info] Start training from score 0.059733\n",
      "[LightGBM] [Info] Start training from score 0.059733\n",
      "[LightGBM] [Info] Start training from score 0.059733\n",
      "[LightGBM] [Info] Start training from score 0.059733\n",
      "[LightGBM] [Info] Start training from score 0.059733\n"
     ]
    },
    {
     "name": "stderr",
     "output_type": "stream",
     "text": [
      "c:\\Users\\obero\\Desktop\\RUTGERS\\Projects\\Bayesian-Hyperparameter-Optimization\\venv\\Lib\\site-packages\\lightgbm\\callback.py:325: UserWarning: Early stopping is not available in dart mode\n",
      "  _log_warning('Early stopping is not available in dart mode')\n"
     ]
    },
    {
     "name": "stdout",
     "output_type": "stream",
     "text": [
      "The maximum ROC AUC on the validation set was 0.73838 with std of 0.03531.\n",
      "The ideal number of iterations was 18.\n"
     ]
    }
   ],
   "source": [
    "#Perform cross validation with 10 folds\n",
    "r = lgb.cv(\n",
    "    params=params,\n",
    "    train_set=train_set,\n",
    "    num_boost_round=1000,\n",
    "    nfold=10,\n",
    "    metrics='auc',\n",
    "    callbacks=[lgb.callback.early_stopping(stopping_rounds=100, verbose=False)], \n",
    "    seed=50\n",
    ")\n",
    "# Correct the keys for mean and standard deviation of AUC\n",
    "r_best = np.max(r['valid auc-mean'])\n",
    "r_best_std = r['valid auc-stdv'][np.argmax(r['valid auc-mean'])]\n",
    "\n",
    "print('The maximum ROC AUC on the validation set was {:.5f} with std of {:.5f}.'.format(r_best, r_best_std))\n",
    "print('The ideal number of iterations was {}.'.format(np.argmax(r['valid auc-mean']) + 1))\n"
   ]
  },
  {
   "cell_type": "markdown",
   "metadata": {},
   "source": [
    "Result Dataframe"
   ]
  },
  {
   "cell_type": "code",
   "execution_count": 98,
   "metadata": {},
   "outputs": [],
   "source": [
    "# Dataframe to hold cv results, Use this dataframe to compare the different results obtained from different techniques\n",
    "random_results = pd.DataFrame(columns = ['loss', 'params', 'iteration', 'estimators', 'time'],\n",
    "                       index = list(range(MAX_EVALS)))"
   ]
  },
  {
   "cell_type": "code",
   "execution_count": 100,
   "metadata": {},
   "outputs": [
    {
     "data": {
      "text/html": [
       "<div>\n",
       "<style scoped>\n",
       "    .dataframe tbody tr th:only-of-type {\n",
       "        vertical-align: middle;\n",
       "    }\n",
       "\n",
       "    .dataframe tbody tr th {\n",
       "        vertical-align: top;\n",
       "    }\n",
       "\n",
       "    .dataframe thead th {\n",
       "        text-align: right;\n",
       "    }\n",
       "</style>\n",
       "<table border=\"1\" class=\"dataframe\">\n",
       "  <thead>\n",
       "    <tr style=\"text-align: right;\">\n",
       "      <th></th>\n",
       "      <th>loss</th>\n",
       "      <th>params</th>\n",
       "      <th>iteration</th>\n",
       "      <th>estimators</th>\n",
       "      <th>time</th>\n",
       "    </tr>\n",
       "  </thead>\n",
       "  <tbody>\n",
       "    <tr>\n",
       "      <th>0</th>\n",
       "      <td>NaN</td>\n",
       "      <td>NaN</td>\n",
       "      <td>NaN</td>\n",
       "      <td>NaN</td>\n",
       "      <td>NaN</td>\n",
       "    </tr>\n",
       "    <tr>\n",
       "      <th>1</th>\n",
       "      <td>NaN</td>\n",
       "      <td>NaN</td>\n",
       "      <td>NaN</td>\n",
       "      <td>NaN</td>\n",
       "      <td>NaN</td>\n",
       "    </tr>\n",
       "    <tr>\n",
       "      <th>2</th>\n",
       "      <td>NaN</td>\n",
       "      <td>NaN</td>\n",
       "      <td>NaN</td>\n",
       "      <td>NaN</td>\n",
       "      <td>NaN</td>\n",
       "    </tr>\n",
       "    <tr>\n",
       "      <th>3</th>\n",
       "      <td>NaN</td>\n",
       "      <td>NaN</td>\n",
       "      <td>NaN</td>\n",
       "      <td>NaN</td>\n",
       "      <td>NaN</td>\n",
       "    </tr>\n",
       "    <tr>\n",
       "      <th>4</th>\n",
       "      <td>NaN</td>\n",
       "      <td>NaN</td>\n",
       "      <td>NaN</td>\n",
       "      <td>NaN</td>\n",
       "      <td>NaN</td>\n",
       "    </tr>\n",
       "    <tr>\n",
       "      <th>...</th>\n",
       "      <td>...</td>\n",
       "      <td>...</td>\n",
       "      <td>...</td>\n",
       "      <td>...</td>\n",
       "      <td>...</td>\n",
       "    </tr>\n",
       "    <tr>\n",
       "      <th>495</th>\n",
       "      <td>NaN</td>\n",
       "      <td>NaN</td>\n",
       "      <td>NaN</td>\n",
       "      <td>NaN</td>\n",
       "      <td>NaN</td>\n",
       "    </tr>\n",
       "    <tr>\n",
       "      <th>496</th>\n",
       "      <td>NaN</td>\n",
       "      <td>NaN</td>\n",
       "      <td>NaN</td>\n",
       "      <td>NaN</td>\n",
       "      <td>NaN</td>\n",
       "    </tr>\n",
       "    <tr>\n",
       "      <th>497</th>\n",
       "      <td>NaN</td>\n",
       "      <td>NaN</td>\n",
       "      <td>NaN</td>\n",
       "      <td>NaN</td>\n",
       "      <td>NaN</td>\n",
       "    </tr>\n",
       "    <tr>\n",
       "      <th>498</th>\n",
       "      <td>NaN</td>\n",
       "      <td>NaN</td>\n",
       "      <td>NaN</td>\n",
       "      <td>NaN</td>\n",
       "      <td>NaN</td>\n",
       "    </tr>\n",
       "    <tr>\n",
       "      <th>499</th>\n",
       "      <td>NaN</td>\n",
       "      <td>NaN</td>\n",
       "      <td>NaN</td>\n",
       "      <td>NaN</td>\n",
       "      <td>NaN</td>\n",
       "    </tr>\n",
       "  </tbody>\n",
       "</table>\n",
       "<p>500 rows × 5 columns</p>\n",
       "</div>"
      ],
      "text/plain": [
       "    loss params iteration estimators time\n",
       "0    NaN    NaN       NaN        NaN  NaN\n",
       "1    NaN    NaN       NaN        NaN  NaN\n",
       "2    NaN    NaN       NaN        NaN  NaN\n",
       "3    NaN    NaN       NaN        NaN  NaN\n",
       "4    NaN    NaN       NaN        NaN  NaN\n",
       "..   ...    ...       ...        ...  ...\n",
       "495  NaN    NaN       NaN        NaN  NaN\n",
       "496  NaN    NaN       NaN        NaN  NaN\n",
       "497  NaN    NaN       NaN        NaN  NaN\n",
       "498  NaN    NaN       NaN        NaN  NaN\n",
       "499  NaN    NaN       NaN        NaN  NaN\n",
       "\n",
       "[500 rows x 5 columns]"
      ]
     },
     "execution_count": 100,
     "metadata": {},
     "output_type": "execute_result"
    }
   ],
   "source": [
    "random_results"
   ]
  },
  {
   "cell_type": "markdown",
   "metadata": {},
   "source": [
    "Objective Function\n",
    "\n",
    "we will take in the hyperparameters and return the validation loss. \n",
    "\n",
    "In the case of random search, the next values selected are not based on the past evaluation results."
   ]
  },
  {
   "cell_type": "code",
   "execution_count": 105,
   "metadata": {},
   "outputs": [],
   "source": [
    "def random_objective(params,iteration,n_folds = N_FOLDS):\n",
    "    \n",
    "    start = timer()\n",
    "    cv_results = lgb.cv(params=params,train_set=train_set,num_boost_round=1000,nfold=n_folds, metrics='auc',\n",
    "    callbacks=[lgb.callback.early_stopping(stopping_rounds=100, verbose=False)], \n",
    "    seed=50)\n",
    "    end  = timer()\n",
    "    best_score = np.max(cv_results['valid auc-mean'])\n",
    "    \n",
    "    loss = 1 - best_score\n",
    "    \n",
    "    n_estimators = int(np.argmax(cv_results['valid auc-mean']) + 1)\n",
    "    \n",
    "    return [loss,params,iteration,n_estimators,end - start]"
   ]
  },
  {
   "cell_type": "markdown",
   "metadata": {},
   "source": [
    "Random Search Implementation"
   ]
  },
  {
   "cell_type": "code",
   "execution_count": 114,
   "metadata": {},
   "outputs": [
    {
     "ename": "LightGBMError",
     "evalue": "Cannot change bin_construct_sample_cnt after constructed Dataset handle.",
     "output_type": "error",
     "traceback": [
      "\u001b[1;31m---------------------------------------------------------------------------\u001b[0m",
      "\u001b[1;31mLightGBMError\u001b[0m                             Traceback (most recent call last)",
      "Cell \u001b[1;32mIn[114], line 19\u001b[0m\n\u001b[0;32m     14\u001b[0m \u001b[38;5;28;01melse\u001b[39;00m:\n\u001b[0;32m     15\u001b[0m     \u001b[38;5;66;03m# Subsample supported for gdbt and dart\u001b[39;00m\n\u001b[0;32m     16\u001b[0m     params[\u001b[38;5;124m'\u001b[39m\u001b[38;5;124msubsample\u001b[39m\u001b[38;5;124m'\u001b[39m] \u001b[38;5;241m=\u001b[39m random\u001b[38;5;241m.\u001b[39msample(subsample_dist, \u001b[38;5;241m1\u001b[39m)[\u001b[38;5;241m0\u001b[39m]\n\u001b[1;32m---> 19\u001b[0m results_list \u001b[38;5;241m=\u001b[39m \u001b[43mrandom_objective\u001b[49m\u001b[43m(\u001b[49m\u001b[43mparams\u001b[49m\u001b[43m,\u001b[49m\u001b[43m \u001b[49m\u001b[43mi\u001b[49m\u001b[43m)\u001b[49m\n\u001b[0;32m     21\u001b[0m \u001b[38;5;66;03m# Add results to next row in dataframe\u001b[39;00m\n\u001b[0;32m     22\u001b[0m random_results\u001b[38;5;241m.\u001b[39mloc[i, :] \u001b[38;5;241m=\u001b[39m results_list\n",
      "Cell \u001b[1;32mIn[105], line 4\u001b[0m, in \u001b[0;36mrandom_objective\u001b[1;34m(params, iteration, n_folds)\u001b[0m\n\u001b[0;32m      1\u001b[0m \u001b[38;5;28;01mdef\u001b[39;00m \u001b[38;5;21mrandom_objective\u001b[39m(params,iteration,n_folds \u001b[38;5;241m=\u001b[39m N_FOLDS):\n\u001b[0;32m      3\u001b[0m     start \u001b[38;5;241m=\u001b[39m timer()\n\u001b[1;32m----> 4\u001b[0m     cv_results \u001b[38;5;241m=\u001b[39m \u001b[43mlgb\u001b[49m\u001b[38;5;241;43m.\u001b[39;49m\u001b[43mcv\u001b[49m\u001b[43m(\u001b[49m\u001b[43mparams\u001b[49m\u001b[38;5;241;43m=\u001b[39;49m\u001b[43mparams\u001b[49m\u001b[43m,\u001b[49m\u001b[43mtrain_set\u001b[49m\u001b[38;5;241;43m=\u001b[39;49m\u001b[43mtrain_set\u001b[49m\u001b[43m,\u001b[49m\u001b[43mnum_boost_round\u001b[49m\u001b[38;5;241;43m=\u001b[39;49m\u001b[38;5;241;43m1000\u001b[39;49m\u001b[43m,\u001b[49m\u001b[43mnfold\u001b[49m\u001b[38;5;241;43m=\u001b[39;49m\u001b[43mn_folds\u001b[49m\u001b[43m,\u001b[49m\u001b[43m \u001b[49m\u001b[43mmetrics\u001b[49m\u001b[38;5;241;43m=\u001b[39;49m\u001b[38;5;124;43m'\u001b[39;49m\u001b[38;5;124;43mauc\u001b[39;49m\u001b[38;5;124;43m'\u001b[39;49m\u001b[43m,\u001b[49m\n\u001b[0;32m      5\u001b[0m \u001b[43m    \u001b[49m\u001b[43mcallbacks\u001b[49m\u001b[38;5;241;43m=\u001b[39;49m\u001b[43m[\u001b[49m\u001b[43mlgb\u001b[49m\u001b[38;5;241;43m.\u001b[39;49m\u001b[43mcallback\u001b[49m\u001b[38;5;241;43m.\u001b[39;49m\u001b[43mearly_stopping\u001b[49m\u001b[43m(\u001b[49m\u001b[43mstopping_rounds\u001b[49m\u001b[38;5;241;43m=\u001b[39;49m\u001b[38;5;241;43m100\u001b[39;49m\u001b[43m,\u001b[49m\u001b[43m \u001b[49m\u001b[43mverbose\u001b[49m\u001b[38;5;241;43m=\u001b[39;49m\u001b[38;5;28;43;01mFalse\u001b[39;49;00m\u001b[43m)\u001b[49m\u001b[43m]\u001b[49m\u001b[43m,\u001b[49m\u001b[43m \u001b[49m\n\u001b[0;32m      6\u001b[0m \u001b[43m    \u001b[49m\u001b[43mseed\u001b[49m\u001b[38;5;241;43m=\u001b[39;49m\u001b[38;5;241;43m50\u001b[39;49m\u001b[43m)\u001b[49m\n\u001b[0;32m      7\u001b[0m     end  \u001b[38;5;241m=\u001b[39m timer()\n\u001b[0;32m      8\u001b[0m     best_score \u001b[38;5;241m=\u001b[39m np\u001b[38;5;241m.\u001b[39mmax(cv_results[\u001b[38;5;124m'\u001b[39m\u001b[38;5;124mvalid auc-mean\u001b[39m\u001b[38;5;124m'\u001b[39m])\n",
      "File \u001b[1;32mc:\\Users\\obero\\Desktop\\RUTGERS\\Projects\\Bayesian-Hyperparameter-Optimization\\venv\\Lib\\site-packages\\lightgbm\\engine.py:716\u001b[0m, in \u001b[0;36mcv\u001b[1;34m(params, train_set, num_boost_round, folds, nfold, stratified, shuffle, metrics, feval, init_model, feature_name, categorical_feature, fpreproc, seed, callbacks, eval_train_metric, return_cvbooster)\u001b[0m\n\u001b[0;32m    713\u001b[0m         params\u001b[38;5;241m.\u001b[39mpop(metric_alias, \u001b[38;5;28;01mNone\u001b[39;00m)\n\u001b[0;32m    714\u001b[0m     params[\u001b[38;5;124m'\u001b[39m\u001b[38;5;124mmetric\u001b[39m\u001b[38;5;124m'\u001b[39m] \u001b[38;5;241m=\u001b[39m metrics\n\u001b[1;32m--> 716\u001b[0m \u001b[43mtrain_set\u001b[49m\u001b[38;5;241;43m.\u001b[39;49m\u001b[43m_update_params\u001b[49m\u001b[43m(\u001b[49m\u001b[43mparams\u001b[49m\u001b[43m)\u001b[49m \\\n\u001b[0;32m    717\u001b[0m          \u001b[38;5;241m.\u001b[39m_set_predictor(predictor) \\\n\u001b[0;32m    718\u001b[0m          \u001b[38;5;241m.\u001b[39mset_feature_name(feature_name) \\\n\u001b[0;32m    719\u001b[0m          \u001b[38;5;241m.\u001b[39mset_categorical_feature(categorical_feature)\n\u001b[0;32m    721\u001b[0m results \u001b[38;5;241m=\u001b[39m defaultdict(\u001b[38;5;28mlist\u001b[39m)\n\u001b[0;32m    722\u001b[0m cvfolds \u001b[38;5;241m=\u001b[39m _make_n_folds(full_data\u001b[38;5;241m=\u001b[39mtrain_set, folds\u001b[38;5;241m=\u001b[39mfolds, nfold\u001b[38;5;241m=\u001b[39mnfold,\n\u001b[0;32m    723\u001b[0m                         params\u001b[38;5;241m=\u001b[39mparams, seed\u001b[38;5;241m=\u001b[39mseed, fpreproc\u001b[38;5;241m=\u001b[39mfpreproc,\n\u001b[0;32m    724\u001b[0m                         stratified\u001b[38;5;241m=\u001b[39mstratified, shuffle\u001b[38;5;241m=\u001b[39mshuffle,\n\u001b[0;32m    725\u001b[0m                         eval_train_metric\u001b[38;5;241m=\u001b[39meval_train_metric)\n",
      "File \u001b[1;32mc:\\Users\\obero\\Desktop\\RUTGERS\\Projects\\Bayesian-Hyperparameter-Optimization\\venv\\Lib\\site-packages\\lightgbm\\basic.py:2594\u001b[0m, in \u001b[0;36mDataset._update_params\u001b[1;34m(self, params)\u001b[0m\n\u001b[0;32m   2592\u001b[0m             \u001b[38;5;28mself\u001b[39m\u001b[38;5;241m.\u001b[39m_free_handle()\n\u001b[0;32m   2593\u001b[0m         \u001b[38;5;28;01melse\u001b[39;00m:\n\u001b[1;32m-> 2594\u001b[0m             \u001b[38;5;28;01mraise\u001b[39;00m LightGBMError(_LIB\u001b[38;5;241m.\u001b[39mLGBM_GetLastError()\u001b[38;5;241m.\u001b[39mdecode(\u001b[38;5;124m'\u001b[39m\u001b[38;5;124mutf-8\u001b[39m\u001b[38;5;124m'\u001b[39m))\n\u001b[0;32m   2595\u001b[0m \u001b[38;5;28;01mreturn\u001b[39;00m \u001b[38;5;28mself\u001b[39m\n",
      "\u001b[1;31mLightGBMError\u001b[0m: Cannot change bin_construct_sample_cnt after constructed Dataset handle."
     ]
    }
   ],
   "source": [
    "%%capture\n",
    "\n",
    "random.seed(50)\n",
    "\n",
    "# Iterate through the specified number of evaluations\n",
    "for i in range(MAX_EVALS):\n",
    "    \n",
    "    # Randomly sample parameters for gbm\n",
    "    params = {key: random.sample(value, 1)[0] for key, value in param_grid.items()}\n",
    "    \n",
    "    print(params)\n",
    "    \n",
    "    if params['boosting_type'] == 'goss':\n",
    "        # Cannot subsample with goss\n",
    "        params['subsample'] = 1.0\n",
    "    else:\n",
    "        # Subsample supported for gdbt and dart\n",
    "        params['subsample'] = random.sample(subsample_dist, 1)[0]\n",
    "        \n",
    "        \n",
    "    results_list = random_objective(params, i)\n",
    "    \n",
    "    # Add results to next row in dataframe\n",
    "    random_results.loc[i, :] = results_list"
   ]
  },
  {
   "cell_type": "code",
   "execution_count": 103,
   "metadata": {},
   "outputs": [
    {
     "ename": "TypeError",
     "evalue": "DataFrame.sort_values() got an unexpected keyword argument 'drop'",
     "output_type": "error",
     "traceback": [
      "\u001b[1;31m---------------------------------------------------------------------------\u001b[0m",
      "\u001b[1;31mTypeError\u001b[0m                                 Traceback (most recent call last)",
      "Cell \u001b[1;32mIn[103], line 2\u001b[0m\n\u001b[0;32m      1\u001b[0m random_results\u001b[38;5;241m.\u001b[39msort_values(\u001b[38;5;124m'\u001b[39m\u001b[38;5;124mloss\u001b[39m\u001b[38;5;124m'\u001b[39m,ascending\u001b[38;5;241m=\u001b[39m\u001b[38;5;28;01mTrue\u001b[39;00m,inplace\u001b[38;5;241m=\u001b[39m\u001b[38;5;28;01mTrue\u001b[39;00m)\n\u001b[1;32m----> 2\u001b[0m \u001b[43mrandom_results\u001b[49m\u001b[38;5;241;43m.\u001b[39;49m\u001b[43msort_values\u001b[49m\u001b[43m(\u001b[49m\u001b[43minplace\u001b[49m\u001b[38;5;241;43m=\u001b[39;49m\u001b[38;5;28;43;01mTrue\u001b[39;49;00m\u001b[43m,\u001b[49m\u001b[43mdrop\u001b[49m\u001b[43m \u001b[49m\u001b[38;5;241;43m=\u001b[39;49m\u001b[43m \u001b[49m\u001b[38;5;28;43;01mTrue\u001b[39;49;00m\u001b[43m)\u001b[49m\n\u001b[0;32m      3\u001b[0m random_results\u001b[38;5;241m.\u001b[39mhead()\n",
      "\u001b[1;31mTypeError\u001b[0m: DataFrame.sort_values() got an unexpected keyword argument 'drop'"
     ]
    }
   ],
   "source": [
    "random_results.sort_values('loss',ascending=True,inplace=True)\n",
    "random_results.sort_values(inplace=True,drop = True)\n",
    "random_results.head()\n"
   ]
  },
  {
   "cell_type": "code",
   "execution_count": null,
   "metadata": {},
   "outputs": [],
   "source": []
  },
  {
   "cell_type": "code",
   "execution_count": 109,
   "metadata": {},
   "outputs": [
    {
     "ename": "TypeError",
     "evalue": "cv() missing 1 required positional argument: 'train_set'",
     "output_type": "error",
     "traceback": [
      "\u001b[1;31m---------------------------------------------------------------------------\u001b[0m",
      "\u001b[1;31mTypeError\u001b[0m                                 Traceback (most recent call last)",
      "Cell \u001b[1;32mIn[109], line 1\u001b[0m\n\u001b[1;32m----> 1\u001b[0m cv_results \u001b[38;5;241m=\u001b[39m \u001b[43mlgb\u001b[49m\u001b[38;5;241;43m.\u001b[39;49m\u001b[43mcv\u001b[49m\u001b[43m(\u001b[49m\u001b[38;5;241;43m.\u001b[39;49m\u001b[38;5;241;43m.\u001b[39;49m\u001b[38;5;241;43m.\u001b[39;49m\u001b[43m)\u001b[49m\n\u001b[0;32m      2\u001b[0m \u001b[38;5;28mprint\u001b[39m(cv_results\u001b[38;5;241m.\u001b[39mkeys())\n",
      "\u001b[1;31mTypeError\u001b[0m: cv() missing 1 required positional argument: 'train_set'"
     ]
    }
   ],
   "source": [
    "cv_results = lgb.cv(...)\n",
    "print(cv_results.keys())\n",
    "\n"
   ]
  }
 ],
 "metadata": {
  "kernelspec": {
   "display_name": "base",
   "language": "python",
   "name": "python3"
  },
  "language_info": {
   "codemirror_mode": {
    "name": "ipython",
    "version": 3
   },
   "file_extension": ".py",
   "mimetype": "text/x-python",
   "name": "python",
   "nbconvert_exporter": "python",
   "pygments_lexer": "ipython3",
   "version": "3.12.2"
  }
 },
 "nbformat": 4,
 "nbformat_minor": 2
}
